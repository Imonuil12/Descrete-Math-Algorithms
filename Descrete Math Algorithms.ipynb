{
 "cells": [
  {
   "cell_type": "code",
   "execution_count": 7,
   "id": "12ab352b",
   "metadata": {},
   "outputs": [],
   "source": [
    "def findMax(a):\n",
    "    max = a[0]\n",
    "    for i in range(len(a)):\n",
    "        if max<a[i]:\n",
    "            max=a[i]\n",
    "        return max\n",
    "    \n",
    "l1=[45,65,4,1,-98,41,55,102,3,8,97,1000,-456]\n",
    "l2=[1,1,1,1,1,1,1]\n",
    "l3=[]\n",
    "l4=['a','b','c']"
   ]
  },
  {
   "cell_type": "code",
   "execution_count": 8,
   "id": "51d65d85",
   "metadata": {},
   "outputs": [
    {
     "ename": "IndexError",
     "evalue": "list index out of range",
     "output_type": "error",
     "traceback": [
      "\u001b[1;31m---------------------------------------------------------------------------\u001b[0m",
      "\u001b[1;31mIndexError\u001b[0m                                Traceback (most recent call last)",
      "Input \u001b[1;32mIn [8]\u001b[0m, in \u001b[0;36m<cell line: 1>\u001b[1;34m()\u001b[0m\n\u001b[1;32m----> 1\u001b[0m \u001b[38;5;28mprint\u001b[39m(\u001b[43mfindMax\u001b[49m\u001b[43m(\u001b[49m\u001b[43ml3\u001b[49m\u001b[43m)\u001b[49m)\n",
      "Input \u001b[1;32mIn [7]\u001b[0m, in \u001b[0;36mfindMax\u001b[1;34m(a)\u001b[0m\n\u001b[0;32m      1\u001b[0m \u001b[38;5;28;01mdef\u001b[39;00m \u001b[38;5;21mfindMax\u001b[39m(a):\n\u001b[1;32m----> 2\u001b[0m     \u001b[38;5;28mmax\u001b[39m \u001b[38;5;241m=\u001b[39m \u001b[43ma\u001b[49m\u001b[43m[\u001b[49m\u001b[38;5;241;43m0\u001b[39;49m\u001b[43m]\u001b[49m\n\u001b[0;32m      3\u001b[0m     \u001b[38;5;28;01mfor\u001b[39;00m i \u001b[38;5;129;01min\u001b[39;00m \u001b[38;5;28mrange\u001b[39m(\u001b[38;5;28mlen\u001b[39m(a)):\n\u001b[0;32m      4\u001b[0m         \u001b[38;5;28;01mif\u001b[39;00m \u001b[38;5;28mmax\u001b[39m\u001b[38;5;241m<\u001b[39ma[i]:\n",
      "\u001b[1;31mIndexError\u001b[0m: list index out of range"
     ]
    }
   ],
   "source": [
    "print(findMax(l3))"
   ]
  },
  {
   "cell_type": "code",
   "execution_count": 9,
   "id": "76f0ade7",
   "metadata": {},
   "outputs": [],
   "source": [
    "def linearSearch(x,a):\n",
    "    i=0\n",
    "    while i<len(a) and x!=a[i]:\n",
    "        i=i+1\n",
    "        if i<len(a):\n",
    "            location=i\n",
    "        else:\n",
    "            location=\"No \"+str(x)+\" in the list!\"\n",
    "        return location\n",
    "l1=[45,65,4,1,-98,41,55,182,3,8,97,1000,-456]"
   ]
  },
  {
   "cell_type": "code",
   "execution_count": 10,
   "id": "e329df8a",
   "metadata": {},
   "outputs": [
    {
     "name": "stdout",
     "output_type": "stream",
     "text": [
      "13\n"
     ]
    }
   ],
   "source": [
    "print(len(l1))"
   ]
  },
  {
   "cell_type": "code",
   "execution_count": 11,
   "id": "4b8c464b",
   "metadata": {},
   "outputs": [
    {
     "name": "stdout",
     "output_type": "stream",
     "text": [
      "1\n"
     ]
    }
   ],
   "source": [
    "print(linearSearch(14,l1))"
   ]
  },
  {
   "cell_type": "code",
   "execution_count": 12,
   "id": "d4c9ef25",
   "metadata": {},
   "outputs": [
    {
     "name": "stdout",
     "output_type": "stream",
     "text": [
      "1\n"
     ]
    }
   ],
   "source": [
    "print(linearSearch(1,l1))"
   ]
  },
  {
   "cell_type": "code",
   "execution_count": null,
   "id": "f5c43545",
   "metadata": {},
   "outputs": [],
   "source": []
  }
 ],
 "metadata": {
  "kernelspec": {
   "display_name": "Python 3 (ipykernel)",
   "language": "python",
   "name": "python3"
  },
  "language_info": {
   "codemirror_mode": {
    "name": "ipython",
    "version": 3
   },
   "file_extension": ".py",
   "mimetype": "text/x-python",
   "name": "python",
   "nbconvert_exporter": "python",
   "pygments_lexer": "ipython3",
   "version": "3.10.2"
  }
 },
 "nbformat": 4,
 "nbformat_minor": 5
}
